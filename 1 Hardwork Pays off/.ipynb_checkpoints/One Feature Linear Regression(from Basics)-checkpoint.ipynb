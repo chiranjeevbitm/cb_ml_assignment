{
 "cells": [
  {
   "cell_type": "code",
   "execution_count": 1,
   "metadata": {
    "_cell_guid": "b1076dfc-b9ad-4769-8c92-a6c4dae69d19",
    "_uuid": "8f2839f25d086af736a60e9eeb907d3b93b6e0e5"
   },
   "outputs": [],
   "source": [
    "# Import the required libraries\n",
    "from sklearn import linear_model\n",
    "import pandas as pd\n",
    "import matplotlib.pyplot as plt\n",
    "import numpy as np\n",
    "import math   # yep! going to a bit of maths later!!\n",
    "from scipy import stats as st # and some stats"
   ]
  },
  {
   "cell_type": "markdown",
   "metadata": {},
   "source": [
    "## Load data"
   ]
  },
  {
   "cell_type": "code",
   "execution_count": 15,
   "metadata": {},
   "outputs": [],
   "source": [
    "Xtrain = pd.read_csv(\"../input/Linear_X_Train.csv\")\n",
    "Ytrain = pd.read_csv(\"../input/Linear_Y_Train.csv\")\n",
    "Xtest = pd.read_csv(\"../input/Linear_X_Test.csv\")"
   ]
  },
  {
   "cell_type": "markdown",
   "metadata": {},
   "source": [
    "## Now check the data set to understand how to proceed with this\n"
   ]
  },
  {
   "cell_type": "code",
   "execution_count": 16,
   "metadata": {
    "_cell_guid": "79c7e3d0-c299-4dcb-8224-4455121ee9b0",
    "_uuid": "d629ff2d2480ee46fbb7e2d37f6b5fab8052498a"
   },
   "outputs": [
    {
     "name": "stdout",
     "output_type": "stream",
     "text": [
      "            y\n",
      "0   -0.091101\n",
      "1  -53.467721\n",
      "2   75.457009\n",
      "3  -12.025286\n",
      "4   57.414187\n",
      "5 -110.849412\n",
      "          x\n",
      "0 -0.289307\n",
      "1 -0.588810\n",
      "2  1.027507\n",
      "3 -0.259013\n",
      "4  0.782043\n",
      "5 -1.675230\n"
     ]
    }
   ],
   "source": [
    "print (Ytrain.loc[0:5])\n",
    "print (Xtrain.loc[0:5])"
   ]
  },
  {
   "cell_type": "markdown",
   "metadata": {},
   "source": [
    "## Check for the data set for Null values"
   ]
  },
  {
   "cell_type": "code",
   "execution_count": 17,
   "metadata": {},
   "outputs": [
    {
     "name": "stdout",
     "output_type": "stream",
     "text": [
      "x    0\n",
      "dtype: int64\n",
      "y    0\n",
      "dtype: int64\n",
      "x    0\n",
      "dtype: int64\n"
     ]
    }
   ],
   "source": [
    "print(Xtrain.isnull().sum())\n",
    "print(Ytrain.isnull().sum())\n",
    "print(Xtest.isnull().sum())\n"
   ]
  },
  {
   "cell_type": "code",
   "execution_count": 18,
   "metadata": {},
   "outputs": [
    {
     "name": "stdout",
     "output_type": "stream",
     "text": [
      "Mean of X Training set:  x   -0.037795\n",
      "dtype: float64 \n",
      "\n",
      "Median of X Training set:  -0.0350275126134625 \n",
      "\n",
      "Mean of Y Training set:  y    0.683869\n",
      "dtype: float64 \n",
      "\n",
      "Median of Y Training set:  0.18063951169288117 \n",
      "\n",
      "Std Dev of X Training set:  x    0.99208\n",
      "dtype: float64 \n",
      "\n",
      "Std Dev of Y Training set:  x    0.99208\n",
      "dtype: float64 \n",
      "\n"
     ]
    }
   ],
   "source": [
    "# Review some of the statistics to check whether the data is skewed\n",
    "print (\"Mean of X Training set: \", np.mean(Xtrain), \"\\n\")\n",
    "print (\"Median of X Training set: \", np.median(Xtrain), \"\\n\")\n",
    "print (\"Mean of Y Training set: \", np.mean(Ytrain), \"\\n\")\n",
    "print (\"Median of Y Training set: \", np.median(Ytrain), \"\\n\")\n",
    "print (\"Std Dev of X Training set: \", np.std(Xtrain), \"\\n\")\n",
    "print (\"Std Dev of Y Training set: \", np.std(Xtrain), \"\\n\")"
   ]
  },
  {
   "cell_type": "markdown",
   "metadata": {},
   "source": [
    "#### Median and mean are similar so the training set isn't skewed by any outliers that might cause leverage when doing the linear regression"
   ]
  },
  {
   "cell_type": "code",
   "execution_count": 19,
   "metadata": {},
   "outputs": [
    {
     "data": {
      "image/png": "[encoded data removed]",
      "text/plain": [
       "<Figure size 432x288 with 1 Axes>"
      ]
     },
     "metadata": {},
     "output_type": "display_data"
    }
   ],
   "source": [
    "### Now plot the relation between X and Y\n",
    "### this gives some core routines to experiment with different parameters\n",
    "plt.title('Relationship between X and Y')\n",
    "plt.xlabel(\"X label \")\n",
    "plt.ylabel(\"Y label \")\n",
    "plt.scatter(Xtrain, Ytrain,  color='red')\n",
    "plt.show()\n",
    "\n",
    "\n"
   ]
  },
  {
   "cell_type": "markdown",
   "metadata": {},
   "source": [
    "### Now to set up the linear regression model\n"
   ]
  },
  {
   "cell_type": "code",
   "execution_count": 20,
   "metadata": {},
   "outputs": [
    {
     "name": "stdout",
     "output_type": "stream",
     "text": [
      "R sq:  0.9709612233822353\n",
      "Correlation:  0.9853736465839927\n"
     ]
    }
   ],
   "source": [
    "# Create linear regression object\n",
    "lm = linear_model.LinearRegression()\n",
    "\n",
    "# then fit it\n",
    "lm.fit(Xtrain,Ytrain)\n",
    "\n",
    "# R sq to give an idea of the fit \n",
    "print('R sq: ',lm.score(Xtrain,Ytrain))\n",
    "\n",
    "# and so the correlation is..\n",
    "print('Correlation: ', math.sqrt(lm.score(Xtrain,Ytrain)))"
   ]
  },
  {
   "cell_type": "markdown",
   "metadata": {},
   "source": [
    "#### A good R sq and correlation!!! The positive correlation shows that as Y increases so does X."
   ]
  },
  {
   "cell_type": "markdown",
   "metadata": {},
   "source": [
    "## Print the other usefull statistical informations"
   ]
  },
  {
   "cell_type": "code",
   "execution_count": 24,
   "metadata": {},
   "outputs": [
    {
     "name": "stdout",
     "output_type": "stream",
     "text": [
      "Coefficient for X  [[80.54363185]]\n",
      "Standard Error:  [0.01620276]\n",
      "The t-statistic: [[2833.49579318]]\n",
      "Two tailed p-values:\n"
     ]
    },
    {
     "data": {
      "text/plain": [
       "(array([0.98537365]), array([0.]))"
      ]
     },
     "execution_count": 24,
     "metadata": {},
     "output_type": "execute_result"
    }
   ],
   "source": [
    "# This the coefficient for the single feature\n",
    "print(\"Coefficient for X \", lm.coef_)\n",
    "\n",
    "# Get the standard error\n",
    "print (\"Standard Error: \",st.sem(Xtrain))\n",
    "# Our hypothesis test for this is that there is no difference between the coefficient and the true value\n",
    "# that the coefficient should be\n",
    "ttest = lm.coef_/st.sem(Xtest)\n",
    "print (\"The t-statistic:\",ttest)\n",
    "\n",
    "# but we need the p-value to help determine the probablity that we have a correct t-statistic\n",
    "print (\"Two tailed p-values:\")\n",
    "st.pearsonr(Xtrain, Ytrain)"
   ]
  },
  {
   "cell_type": "markdown",
   "metadata": {},
   "source": [
    "### Now let's run the model against the test data\n"
   ]
  },
  {
   "cell_type": "code",
   "execution_count": 27,
   "metadata": {},
   "outputs": [],
   "source": [
    "y_predicted = lm.predict(Xtest)"
   ]
  },
  {
   "cell_type": "code",
   "execution_count": 32,
   "metadata": {},
   "outputs": [
    {
     "data": {
      "text/plain": [
       "array([[-147.52847525],\n",
       "       [ -66.26699842],\n",
       "       [-200.06209345],\n",
       "       ...,\n",
       "       [  14.0382031 ],\n",
       "       [ -18.66616899],\n",
       "       [ -51.07594693]])"
      ]
     },
     "execution_count": 32,
     "metadata": {},
     "output_type": "execute_result"
    }
   ],
   "source": [
    "y_predicted"
   ]
  },
  {
   "cell_type": "code",
   "execution_count": 35,
   "metadata": {},
   "outputs": [],
   "source": [
    "np.savetxt('predictedYtext.csv',y_predicted)"
   ]
  },
  {
   "cell_type": "code",
   "execution_count": null,
   "metadata": {},
   "outputs": [],
   "source": []
  }
 ],
 "metadata": {
  "kernelspec": {
   "display_name": "Python 3",
   "language": "python",
   "name": "python3"
  },
  "language_info": {
   "codemirror_mode": {
    "name": "ipython",
    "version": 3
   },
   "file_extension": ".py",
   "mimetype": "text/x-python",
   "name": "python",
   "nbconvert_exporter": "python",
   "pygments_lexer": "ipython3",
   "version": "3.7.0"
  }
 },
 "nbformat": 4,
 "nbformat_minor": 1
}
