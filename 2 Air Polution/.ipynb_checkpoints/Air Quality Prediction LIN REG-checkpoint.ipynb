{
 "cells": [
  {
   "cell_type": "code",
   "execution_count": 35,
   "metadata": {
    "_cell_guid": "b1076dfc-b9ad-4769-8c92-a6c4dae69d19",
    "_uuid": "8f2839f25d086af736a60e9eeb907d3b93b6e0e5"
   },
   "outputs": [],
   "source": [
    "import numpy as np \n",
    "import pandas as pd \n",
    "from matplotlib import pyplot as plt\n",
    "import seaborn as sns\n",
    "from sklearn.preprocessing import Normalizer\n",
    "from sklearn.model_selection import train_test_split"
   ]
  },
  {
   "cell_type": "code",
   "execution_count": 36,
   "metadata": {
    "_cell_guid": "79c7e3d0-c299-4dcb-8224-4455121ee9b0",
    "_uuid": "d629ff2d2480ee46fbb7e2d37f6b5fab8052498a"
   },
   "outputs": [],
   "source": [
    "train = pd.read_csv('../input/Train.csv')\n",
    "test = pd.read_csv('../input/Test.csv')"
   ]
  },
  {
   "cell_type": "code",
   "execution_count": 37,
   "metadata": {
    "_uuid": "88a5124859f23f4d812d2d5dc9026286731291ab"
   },
   "outputs": [
    {
     "data": {
      "text/html": [
       "<div>\n",
       "<style scoped>\n",
       "    .dataframe tbody tr th:only-of-type {\n",
       "        vertical-align: middle;\n",
       "    }\n",
       "\n",
       "    .dataframe tbody tr th {\n",
       "        vertical-align: top;\n",
       "    }\n",
       "\n",
       "    .dataframe thead th {\n",
       "        text-align: right;\n",
       "    }\n",
       "</style>\n",
       "<table border=\"1\" class=\"dataframe\">\n",
       "  <thead>\n",
       "    <tr style=\"text-align: right;\">\n",
       "      <th></th>\n",
       "      <th>feature_1</th>\n",
       "      <th>feature_2</th>\n",
       "      <th>feature_3</th>\n",
       "      <th>feature_4</th>\n",
       "      <th>feature_5</th>\n",
       "      <th>target</th>\n",
       "    </tr>\n",
       "  </thead>\n",
       "  <tbody>\n",
       "    <tr>\n",
       "      <th>count</th>\n",
       "      <td>1600.000000</td>\n",
       "      <td>1600.000000</td>\n",
       "      <td>1600.000000</td>\n",
       "      <td>1600.000000</td>\n",
       "      <td>1600.000000</td>\n",
       "      <td>1600.000000</td>\n",
       "    </tr>\n",
       "    <tr>\n",
       "      <th>mean</th>\n",
       "      <td>0.004114</td>\n",
       "      <td>-0.027604</td>\n",
       "      <td>-0.044459</td>\n",
       "      <td>-0.042408</td>\n",
       "      <td>0.012005</td>\n",
       "      <td>0.318835</td>\n",
       "    </tr>\n",
       "    <tr>\n",
       "      <th>std</th>\n",
       "      <td>0.997338</td>\n",
       "      <td>1.021776</td>\n",
       "      <td>1.011768</td>\n",
       "      <td>1.017189</td>\n",
       "      <td>0.978654</td>\n",
       "      <td>110.741562</td>\n",
       "    </tr>\n",
       "    <tr>\n",
       "      <th>min</th>\n",
       "      <td>-3.380125</td>\n",
       "      <td>-3.314844</td>\n",
       "      <td>-3.153118</td>\n",
       "      <td>-3.250169</td>\n",
       "      <td>-2.851707</td>\n",
       "      <td>-379.829794</td>\n",
       "    </tr>\n",
       "    <tr>\n",
       "      <th>25%</th>\n",
       "      <td>-0.647165</td>\n",
       "      <td>-0.705030</td>\n",
       "      <td>-0.706385</td>\n",
       "      <td>-0.709504</td>\n",
       "      <td>-0.615880</td>\n",
       "      <td>-71.897040</td>\n",
       "    </tr>\n",
       "    <tr>\n",
       "      <th>50%</th>\n",
       "      <td>-0.000360</td>\n",
       "      <td>-0.043769</td>\n",
       "      <td>-0.041272</td>\n",
       "      <td>-0.029756</td>\n",
       "      <td>-0.013527</td>\n",
       "      <td>-0.610665</td>\n",
       "    </tr>\n",
       "    <tr>\n",
       "      <th>75%</th>\n",
       "      <td>0.682118</td>\n",
       "      <td>0.645442</td>\n",
       "      <td>0.639130</td>\n",
       "      <td>0.646290</td>\n",
       "      <td>0.650089</td>\n",
       "      <td>71.226603</td>\n",
       "    </tr>\n",
       "    <tr>\n",
       "      <th>max</th>\n",
       "      <td>3.287205</td>\n",
       "      <td>3.438895</td>\n",
       "      <td>3.216176</td>\n",
       "      <td>2.985410</td>\n",
       "      <td>3.321770</td>\n",
       "      <td>337.643014</td>\n",
       "    </tr>\n",
       "  </tbody>\n",
       "</table>\n",
       "</div>"
      ],
      "text/plain": [
       "         feature_1    feature_2     ...         feature_5       target\n",
       "count  1600.000000  1600.000000     ...       1600.000000  1600.000000\n",
       "mean      0.004114    -0.027604     ...          0.012005     0.318835\n",
       "std       0.997338     1.021776     ...          0.978654   110.741562\n",
       "min      -3.380125    -3.314844     ...         -2.851707  -379.829794\n",
       "25%      -0.647165    -0.705030     ...         -0.615880   -71.897040\n",
       "50%      -0.000360    -0.043769     ...         -0.013527    -0.610665\n",
       "75%       0.682118     0.645442     ...          0.650089    71.226603\n",
       "max       3.287205     3.438895     ...          3.321770   337.643014\n",
       "\n",
       "[8 rows x 6 columns]"
      ]
     },
     "execution_count": 37,
     "metadata": {},
     "output_type": "execute_result"
    }
   ],
   "source": [
    "train.describe()"
   ]
  },
  {
   "cell_type": "code",
   "execution_count": 38,
   "metadata": {
    "_uuid": "05572db32c2c5b43fc51e4be47a6eed206c7a9bf"
   },
   "outputs": [
    {
     "data": {
      "text/html": [
       "<div>\n",
       "<style scoped>\n",
       "    .dataframe tbody tr th:only-of-type {\n",
       "        vertical-align: middle;\n",
       "    }\n",
       "\n",
       "    .dataframe tbody tr th {\n",
       "        vertical-align: top;\n",
       "    }\n",
       "\n",
       "    .dataframe thead th {\n",
       "        text-align: right;\n",
       "    }\n",
       "</style>\n",
       "<table border=\"1\" class=\"dataframe\">\n",
       "  <thead>\n",
       "    <tr style=\"text-align: right;\">\n",
       "      <th></th>\n",
       "      <th>feature_1</th>\n",
       "      <th>feature_2</th>\n",
       "      <th>feature_3</th>\n",
       "      <th>feature_4</th>\n",
       "      <th>feature_5</th>\n",
       "      <th>target</th>\n",
       "    </tr>\n",
       "  </thead>\n",
       "  <tbody>\n",
       "    <tr>\n",
       "      <th>count</th>\n",
       "      <td>400.000000</td>\n",
       "      <td>400.000000</td>\n",
       "      <td>400.000000</td>\n",
       "      <td>400.000000</td>\n",
       "      <td>400.000000</td>\n",
       "      <td>400.000000</td>\n",
       "    </tr>\n",
       "    <tr>\n",
       "      <th>mean</th>\n",
       "      <td>-0.021804</td>\n",
       "      <td>-0.012806</td>\n",
       "      <td>-0.010988</td>\n",
       "      <td>-0.034864</td>\n",
       "      <td>0.031016</td>\n",
       "      <td>2.988897</td>\n",
       "    </tr>\n",
       "    <tr>\n",
       "      <th>std</th>\n",
       "      <td>0.979163</td>\n",
       "      <td>1.021580</td>\n",
       "      <td>1.041857</td>\n",
       "      <td>1.034507</td>\n",
       "      <td>0.937469</td>\n",
       "      <td>114.139329</td>\n",
       "    </tr>\n",
       "    <tr>\n",
       "      <th>min</th>\n",
       "      <td>-2.564288</td>\n",
       "      <td>-2.992849</td>\n",
       "      <td>-2.767818</td>\n",
       "      <td>-3.041550</td>\n",
       "      <td>-2.493446</td>\n",
       "      <td>-320.048473</td>\n",
       "    </tr>\n",
       "    <tr>\n",
       "      <th>25%</th>\n",
       "      <td>-0.784581</td>\n",
       "      <td>-0.640843</td>\n",
       "      <td>-0.780267</td>\n",
       "      <td>-0.730596</td>\n",
       "      <td>-0.589199</td>\n",
       "      <td>-65.763521</td>\n",
       "    </tr>\n",
       "    <tr>\n",
       "      <th>50%</th>\n",
       "      <td>-0.004759</td>\n",
       "      <td>-0.077186</td>\n",
       "      <td>-0.109300</td>\n",
       "      <td>-0.040752</td>\n",
       "      <td>0.047327</td>\n",
       "      <td>0.699553</td>\n",
       "    </tr>\n",
       "    <tr>\n",
       "      <th>75%</th>\n",
       "      <td>0.681777</td>\n",
       "      <td>0.738286</td>\n",
       "      <td>0.754063</td>\n",
       "      <td>0.656363</td>\n",
       "      <td>0.586405</td>\n",
       "      <td>83.257690</td>\n",
       "    </tr>\n",
       "    <tr>\n",
       "      <th>max</th>\n",
       "      <td>3.244870</td>\n",
       "      <td>2.591723</td>\n",
       "      <td>2.909357</td>\n",
       "      <td>2.662180</td>\n",
       "      <td>2.870382</td>\n",
       "      <td>335.497450</td>\n",
       "    </tr>\n",
       "  </tbody>\n",
       "</table>\n",
       "</div>"
      ],
      "text/plain": [
       "        feature_1   feature_2     ...       feature_5      target\n",
       "count  400.000000  400.000000     ...      400.000000  400.000000\n",
       "mean    -0.021804   -0.012806     ...        0.031016    2.988897\n",
       "std      0.979163    1.021580     ...        0.937469  114.139329\n",
       "min     -2.564288   -2.992849     ...       -2.493446 -320.048473\n",
       "25%     -0.784581   -0.640843     ...       -0.589199  -65.763521\n",
       "50%     -0.004759   -0.077186     ...        0.047327    0.699553\n",
       "75%      0.681777    0.738286     ...        0.586405   83.257690\n",
       "max      3.244870    2.591723     ...        2.870382  335.497450\n",
       "\n",
       "[8 rows x 6 columns]"
      ]
     },
     "execution_count": 38,
     "metadata": {},
     "output_type": "execute_result"
    }
   ],
   "source": [
    "test.describe()"
   ]
  },
  {
   "cell_type": "code",
   "execution_count": 39,
   "metadata": {
    "_uuid": "32f8a68735d5e2697cc78524dc914b37081d8fb4"
   },
   "outputs": [
    {
     "data": {
      "text/plain": [
       "feature_1    0\n",
       "feature_2    0\n",
       "feature_3    0\n",
       "feature_4    0\n",
       "feature_5    0\n",
       "target       0\n",
       "dtype: int64"
      ]
     },
     "execution_count": 39,
     "metadata": {},
     "output_type": "execute_result"
    }
   ],
   "source": [
    "train.isnull().sum()"
   ]
  },
  {
   "cell_type": "code",
   "execution_count": 40,
   "metadata": {
    "_uuid": "1910c29a42d148ec0e40239eab2931c704bfd215"
   },
   "outputs": [
    {
     "data": {
      "text/plain": [
       "feature_1    0\n",
       "feature_2    0\n",
       "feature_3    0\n",
       "feature_4    0\n",
       "feature_5    0\n",
       "target       0\n",
       "dtype: int64"
      ]
     },
     "execution_count": 40,
     "metadata": {},
     "output_type": "execute_result"
    }
   ],
   "source": [
    "test.isnull().sum()"
   ]
  },
  {
   "cell_type": "markdown",
   "metadata": {
    "_uuid": "dc9d0f2fa9b161daca5689fe4661e8a1766ca7be"
   },
   "source": [
    "### So we got cleaned data\n",
    "\n",
    "All are contineous"
   ]
  },
  {
   "cell_type": "code",
   "execution_count": 41,
   "metadata": {
    "_uuid": "1d253a677083c15845c8be12a09186cfbbb90273"
   },
   "outputs": [
    {
     "data": {
      "image/png": "[encoded data removed]",
      "text/plain": [
       "<Figure size 864x576 with 1 Axes>"
      ]
     },
     "metadata": {},
     "output_type": "display_data"
    }
   ],
   "source": [
    "#plotting correlations\n",
    "num_feat=train.columns[train.dtypes!=object]\n",
    "num_feat=num_feat[1:-1] \n",
    "labels = []\n",
    "values = []\n",
    "for col in num_feat:\n",
    "    labels.append(col)\n",
    "    values.append(np.corrcoef(train[col].values, train.target.values)[0,1])\n",
    "\n",
    "ind = np.arange(len(labels))\n",
    "width = 0.9\n",
    "fig, ax = plt.subplots(figsize=(12,8))\n",
    "rects = ax.barh(ind, np.array(values), color='red')\n",
    "ax.set_yticks(ind+((width)/2.))\n",
    "ax.set_yticklabels(labels, rotation='horizontal')\n",
    "ax.set_xlabel(\"Correlation coefficient\")\n",
    "ax.set_title(\"Correlation Coefficients w.r.t target\");"
   ]
  },
  {
   "cell_type": "code",
   "execution_count": 42,
   "metadata": {
    "_uuid": "de3f7002433686d14f0f5c28de16f3b62e870b52"
   },
   "outputs": [
    {
     "data": {
      "image/png": "[encoded data removed]",
      "text/plain": [
       "<Figure size 720x720 with 2 Axes>"
      ]
     },
     "metadata": {},
     "output_type": "display_data"
    }
   ],
   "source": [
    "#Heatmap\n",
    "corrMatrix=train[num_feat].corr()\n",
    "sns.set(font_scale=1.10)\n",
    "plt.figure(figsize=(10, 10))\n",
    "sns.heatmap(corrMatrix, vmax=.8, linewidths=0.01,\n",
    "            square=True,annot=True,cmap='viridis',linecolor=\"white\")\n",
    "plt.title('Correlation between features');"
   ]
  },
  {
   "cell_type": "code",
   "execution_count": 43,
   "metadata": {
    "_uuid": "ac967b9159bea42193919b91b15affae5bd54e02"
   },
   "outputs": [
    {
     "data": {
      "image/png": "[encoded data removed]",
      "text/plain": [
       "<Figure size 432x288 with 1 Axes>"
      ]
     },
     "metadata": {},
     "output_type": "display_data"
    }
   ],
   "source": [
    "plt.hist((train.target),bins=152)\n",
    "plt.show()"
   ]
  },
  {
   "cell_type": "code",
   "execution_count": 44,
   "metadata": {
    "_uuid": "3e119d4fff068f6c75f02afbf4c45593b21f9b33"
   },
   "outputs": [
    {
     "data": {
      "image/png": "[encoded data removed]",
      "text/plain": [
       "<Figure size 1440x1080 with 6 Axes>"
      ]
     },
     "metadata": {},
     "output_type": "display_data"
    }
   ],
   "source": [
    "# Let's see how the numeric data is distributed.\n",
    "\n",
    "train.hist(bins=10, figsize=(20,15), color='#E14906')\n",
    "plt.show()"
   ]
  },
  {
   "cell_type": "markdown",
   "metadata": {
    "_uuid": "7f454e029b6d807455f3d953ef73c64bb044a8ac"
   },
   "source": [
    "# Linear Regression \n",
    "\n",
    "By merging train.csv and test.csv data and then splitting in 80:20 ratio\n",
    "\n",
    "then creating model\n",
    "\n",
    "and calculating score"
   ]
  },
  {
   "cell_type": "code",
   "execution_count": 45,
   "metadata": {
    "_uuid": "2432ebac80232f6c26923245855a4c9d8424a3fa"
   },
   "outputs": [],
   "source": [
    "combined = train.append(test)\n",
    "combined.reset_index(inplace=True)\n"
   ]
  },
  {
   "cell_type": "code",
   "execution_count": 46,
   "metadata": {
    "_uuid": "e2e67b248f2e970ffaaca7e2c286a165d27f77a0"
   },
   "outputs": [
    {
     "data": {
      "text/html": [
       "<div>\n",
       "<style scoped>\n",
       "    .dataframe tbody tr th:only-of-type {\n",
       "        vertical-align: middle;\n",
       "    }\n",
       "\n",
       "    .dataframe tbody tr th {\n",
       "        vertical-align: top;\n",
       "    }\n",
       "\n",
       "    .dataframe thead th {\n",
       "        text-align: right;\n",
       "    }\n",
       "</style>\n",
       "<table border=\"1\" class=\"dataframe\">\n",
       "  <thead>\n",
       "    <tr style=\"text-align: right;\">\n",
       "      <th></th>\n",
       "      <th>index</th>\n",
       "      <th>feature_1</th>\n",
       "      <th>feature_2</th>\n",
       "      <th>feature_3</th>\n",
       "      <th>feature_4</th>\n",
       "      <th>feature_5</th>\n",
       "      <th>target</th>\n",
       "    </tr>\n",
       "  </thead>\n",
       "  <tbody>\n",
       "    <tr>\n",
       "      <th>count</th>\n",
       "      <td>2000.000000</td>\n",
       "      <td>2000.000000</td>\n",
       "      <td>2000.000000</td>\n",
       "      <td>2000.000000</td>\n",
       "      <td>2000.000000</td>\n",
       "      <td>2000.000000</td>\n",
       "      <td>2000.000000</td>\n",
       "    </tr>\n",
       "    <tr>\n",
       "      <th>mean</th>\n",
       "      <td>679.500000</td>\n",
       "      <td>-0.001069</td>\n",
       "      <td>-0.024644</td>\n",
       "      <td>-0.037765</td>\n",
       "      <td>-0.040899</td>\n",
       "      <td>0.015808</td>\n",
       "      <td>0.852848</td>\n",
       "    </tr>\n",
       "    <tr>\n",
       "      <th>std</th>\n",
       "      <td>480.675332</td>\n",
       "      <td>0.993540</td>\n",
       "      <td>1.021498</td>\n",
       "      <td>1.017681</td>\n",
       "      <td>1.020420</td>\n",
       "      <td>0.970356</td>\n",
       "      <td>111.405622</td>\n",
       "    </tr>\n",
       "    <tr>\n",
       "      <th>min</th>\n",
       "      <td>0.000000</td>\n",
       "      <td>-3.380125</td>\n",
       "      <td>-3.314844</td>\n",
       "      <td>-3.153118</td>\n",
       "      <td>-3.250169</td>\n",
       "      <td>-2.851707</td>\n",
       "      <td>-379.829794</td>\n",
       "    </tr>\n",
       "    <tr>\n",
       "      <th>25%</th>\n",
       "      <td>249.750000</td>\n",
       "      <td>-0.689607</td>\n",
       "      <td>-0.683679</td>\n",
       "      <td>-0.730135</td>\n",
       "      <td>-0.716403</td>\n",
       "      <td>-0.612389</td>\n",
       "      <td>-70.173508</td>\n",
       "    </tr>\n",
       "    <tr>\n",
       "      <th>50%</th>\n",
       "      <td>599.500000</td>\n",
       "      <td>-0.000780</td>\n",
       "      <td>-0.047127</td>\n",
       "      <td>-0.049629</td>\n",
       "      <td>-0.033136</td>\n",
       "      <td>-0.004115</td>\n",
       "      <td>-0.466188</td>\n",
       "    </tr>\n",
       "    <tr>\n",
       "      <th>75%</th>\n",
       "      <td>1099.250000</td>\n",
       "      <td>0.682118</td>\n",
       "      <td>0.661455</td>\n",
       "      <td>0.647560</td>\n",
       "      <td>0.648268</td>\n",
       "      <td>0.635205</td>\n",
       "      <td>73.638671</td>\n",
       "    </tr>\n",
       "    <tr>\n",
       "      <th>max</th>\n",
       "      <td>1599.000000</td>\n",
       "      <td>3.287205</td>\n",
       "      <td>3.438895</td>\n",
       "      <td>3.216176</td>\n",
       "      <td>2.985410</td>\n",
       "      <td>3.321770</td>\n",
       "      <td>337.643014</td>\n",
       "    </tr>\n",
       "  </tbody>\n",
       "</table>\n",
       "</div>"
      ],
      "text/plain": [
       "             index    feature_1     ...         feature_5       target\n",
       "count  2000.000000  2000.000000     ...       2000.000000  2000.000000\n",
       "mean    679.500000    -0.001069     ...          0.015808     0.852848\n",
       "std     480.675332     0.993540     ...          0.970356   111.405622\n",
       "min       0.000000    -3.380125     ...         -2.851707  -379.829794\n",
       "25%     249.750000    -0.689607     ...         -0.612389   -70.173508\n",
       "50%     599.500000    -0.000780     ...         -0.004115    -0.466188\n",
       "75%    1099.250000     0.682118     ...          0.635205    73.638671\n",
       "max    1599.000000     3.287205     ...          3.321770   337.643014\n",
       "\n",
       "[8 rows x 7 columns]"
      ]
     },
     "execution_count": 46,
     "metadata": {},
     "output_type": "execute_result"
    }
   ],
   "source": [
    "combined.describe()"
   ]
  },
  {
   "cell_type": "code",
   "execution_count": 47,
   "metadata": {
    "_uuid": "f2dfa829d493e9f39d431a001add261efdc67932"
   },
   "outputs": [],
   "source": [
    "y = combined['target']\n",
    "x = combined.drop('target', axis=1)"
   ]
  },
  {
   "cell_type": "code",
   "execution_count": 48,
   "metadata": {
    "_uuid": "3e3cbaf617d5e2fd86cbbef49f1bc2745eb66794"
   },
   "outputs": [
    {
     "data": {
      "text/plain": [
       "count    2000.000000\n",
       "mean        0.852848\n",
       "std       111.405622\n",
       "min      -379.829794\n",
       "25%       -70.173508\n",
       "50%        -0.466188\n",
       "75%        73.638671\n",
       "max       337.643014\n",
       "Name: target, dtype: float64"
      ]
     },
     "execution_count": 48,
     "metadata": {},
     "output_type": "execute_result"
    }
   ],
   "source": [
    "y.describe()"
   ]
  },
  {
   "cell_type": "code",
   "execution_count": 49,
   "metadata": {
    "_uuid": "5ef4617d61a62487f8573a31ca613cabc47a2200"
   },
   "outputs": [
    {
     "data": {
      "text/html": [
       "<div>\n",
       "<style scoped>\n",
       "    .dataframe tbody tr th:only-of-type {\n",
       "        vertical-align: middle;\n",
       "    }\n",
       "\n",
       "    .dataframe tbody tr th {\n",
       "        vertical-align: top;\n",
       "    }\n",
       "\n",
       "    .dataframe thead th {\n",
       "        text-align: right;\n",
       "    }\n",
       "</style>\n",
       "<table border=\"1\" class=\"dataframe\">\n",
       "  <thead>\n",
       "    <tr style=\"text-align: right;\">\n",
       "      <th></th>\n",
       "      <th>index</th>\n",
       "      <th>feature_1</th>\n",
       "      <th>feature_2</th>\n",
       "      <th>feature_3</th>\n",
       "      <th>feature_4</th>\n",
       "      <th>feature_5</th>\n",
       "    </tr>\n",
       "  </thead>\n",
       "  <tbody>\n",
       "    <tr>\n",
       "      <th>count</th>\n",
       "      <td>2000.000000</td>\n",
       "      <td>2000.000000</td>\n",
       "      <td>2000.000000</td>\n",
       "      <td>2000.000000</td>\n",
       "      <td>2000.000000</td>\n",
       "      <td>2000.000000</td>\n",
       "    </tr>\n",
       "    <tr>\n",
       "      <th>mean</th>\n",
       "      <td>679.500000</td>\n",
       "      <td>-0.001069</td>\n",
       "      <td>-0.024644</td>\n",
       "      <td>-0.037765</td>\n",
       "      <td>-0.040899</td>\n",
       "      <td>0.015808</td>\n",
       "    </tr>\n",
       "    <tr>\n",
       "      <th>std</th>\n",
       "      <td>480.675332</td>\n",
       "      <td>0.993540</td>\n",
       "      <td>1.021498</td>\n",
       "      <td>1.017681</td>\n",
       "      <td>1.020420</td>\n",
       "      <td>0.970356</td>\n",
       "    </tr>\n",
       "    <tr>\n",
       "      <th>min</th>\n",
       "      <td>0.000000</td>\n",
       "      <td>-3.380125</td>\n",
       "      <td>-3.314844</td>\n",
       "      <td>-3.153118</td>\n",
       "      <td>-3.250169</td>\n",
       "      <td>-2.851707</td>\n",
       "    </tr>\n",
       "    <tr>\n",
       "      <th>25%</th>\n",
       "      <td>249.750000</td>\n",
       "      <td>-0.689607</td>\n",
       "      <td>-0.683679</td>\n",
       "      <td>-0.730135</td>\n",
       "      <td>-0.716403</td>\n",
       "      <td>-0.612389</td>\n",
       "    </tr>\n",
       "    <tr>\n",
       "      <th>50%</th>\n",
       "      <td>599.500000</td>\n",
       "      <td>-0.000780</td>\n",
       "      <td>-0.047127</td>\n",
       "      <td>-0.049629</td>\n",
       "      <td>-0.033136</td>\n",
       "      <td>-0.004115</td>\n",
       "    </tr>\n",
       "    <tr>\n",
       "      <th>75%</th>\n",
       "      <td>1099.250000</td>\n",
       "      <td>0.682118</td>\n",
       "      <td>0.661455</td>\n",
       "      <td>0.647560</td>\n",
       "      <td>0.648268</td>\n",
       "      <td>0.635205</td>\n",
       "    </tr>\n",
       "    <tr>\n",
       "      <th>max</th>\n",
       "      <td>1599.000000</td>\n",
       "      <td>3.287205</td>\n",
       "      <td>3.438895</td>\n",
       "      <td>3.216176</td>\n",
       "      <td>2.985410</td>\n",
       "      <td>3.321770</td>\n",
       "    </tr>\n",
       "  </tbody>\n",
       "</table>\n",
       "</div>"
      ],
      "text/plain": [
       "             index    feature_1     ...         feature_4    feature_5\n",
       "count  2000.000000  2000.000000     ...       2000.000000  2000.000000\n",
       "mean    679.500000    -0.001069     ...         -0.040899     0.015808\n",
       "std     480.675332     0.993540     ...          1.020420     0.970356\n",
       "min       0.000000    -3.380125     ...         -3.250169    -2.851707\n",
       "25%     249.750000    -0.689607     ...         -0.716403    -0.612389\n",
       "50%     599.500000    -0.000780     ...         -0.033136    -0.004115\n",
       "75%    1099.250000     0.682118     ...          0.648268     0.635205\n",
       "max    1599.000000     3.287205     ...          2.985410     3.321770\n",
       "\n",
       "[8 rows x 6 columns]"
      ]
     },
     "execution_count": 49,
     "metadata": {},
     "output_type": "execute_result"
    }
   ],
   "source": [
    "x.describe()"
   ]
  },
  {
   "cell_type": "markdown",
   "metadata": {
    "_uuid": "799585fde66d80252db6532359b88afda19b40c7"
   },
   "source": [
    "### Splitting into 80:20"
   ]
  },
  {
   "cell_type": "code",
   "execution_count": 50,
   "metadata": {
    "_uuid": "53d89154592627ff866af75915035af84de37a70"
   },
   "outputs": [],
   "source": [
    "X_train, X_test, y_train, y_test = train_test_split(x, y ,test_size=0.2)"
   ]
  },
  {
   "cell_type": "code",
   "execution_count": 51,
   "metadata": {
    "_uuid": "97609d455abbf27f7abb7f5e4161a28caa34818b"
   },
   "outputs": [
    {
     "name": "stdout",
     "output_type": "stream",
     "text": [
      "(1600, 6)\n",
      "(400, 6)\n",
      "(1600,)\n",
      "(400,)\n"
     ]
    }
   ],
   "source": [
    "print(X_train.shape)\n",
    "print(X_test.shape)\n",
    "print(y_train.shape)\n",
    "print(y_test.shape)"
   ]
  },
  {
   "cell_type": "code",
   "execution_count": 52,
   "metadata": {
    "_uuid": "6f9ebe8bd8d464e2ae3dafe672c181617e5117d0"
   },
   "outputs": [],
   "source": [
    "# Implimenting Linear Regression from inbuilt function of sklearn\n",
    "from sklearn.linear_model import LinearRegression\n",
    "reg=LinearRegression(fit_intercept=True)\n",
    "model = reg.fit(X_train,y_train)\n",
    "predict = model.predict(X_test)"
   ]
  },
  {
   "cell_type": "code",
   "execution_count": 53,
   "metadata": {
    "_uuid": "c6f3233bb7d509febaa85c4142c7709d6c8fc321"
   },
   "outputs": [
    {
     "name": "stdout",
     "output_type": "stream",
     "text": [
      "0.9652127286274143\n"
     ]
    }
   ],
   "source": [
    "#Predicting Score\n",
    "from sklearn.metrics import r2_score\n",
    "print(r2_score(y_test,predict))"
   ]
  },
  {
   "cell_type": "code",
   "execution_count": 54,
   "metadata": {
    "_uuid": "f61f6f029e564a3ee6f810770373c2727987141a"
   },
   "outputs": [
    {
     "name": "stdout",
     "output_type": "stream",
     "text": [
      "Training Score 0.9671\n",
      "Testing Score 0.9652\n"
     ]
    }
   ],
   "source": [
    "print(\"Training Score %.4f\"%reg.score(X_train,y_train))\n",
    "print(\"Testing Score %.4f\"%reg.score(X_test,y_test))"
   ]
  },
  {
   "cell_type": "markdown",
   "metadata": {
    "_uuid": "b6072ac980d5701f40ed4d365d1b3f5648fc836f"
   },
   "source": [
    "# Cross Validation"
   ]
  },
  {
   "cell_type": "code",
   "execution_count": 55,
   "metadata": {
    "_uuid": "a56ccd061673c1885eef5a0f09ff7212ab8c25fe"
   },
   "outputs": [],
   "source": [
    "from sklearn.model_selection import cross_val_score"
   ]
  },
  {
   "cell_type": "code",
   "execution_count": 56,
   "metadata": {
    "_uuid": "8ab504d53469e7d4291a767f8fb1894fab8fa924"
   },
   "outputs": [],
   "source": [
    "scores=cross_val_score(reg,X_train,y_train,cv=10,scoring='r2')"
   ]
  },
  {
   "cell_type": "code",
   "execution_count": 57,
   "metadata": {
    "_uuid": "f6d28621f5672bcc6620d92588e08a68528c35f4"
   },
   "outputs": [
    {
     "name": "stdout",
     "output_type": "stream",
     "text": [
      "[0.95118744 0.97023156 0.96893999 0.97022401 0.96747965 0.96499972\n",
      " 0.96262807 0.97345875 0.96189059 0.97082937]\n"
     ]
    }
   ],
   "source": [
    "print(scores)"
   ]
  },
  {
   "cell_type": "code",
   "execution_count": 58,
   "metadata": {
    "_uuid": "b85a7db5e05b4a3692af06d94df94c64f61ee74e"
   },
   "outputs": [
    {
     "name": "stdout",
     "output_type": "stream",
     "text": [
      "0.9661869144789648\n"
     ]
    }
   ],
   "source": [
    "print(scores.mean())"
   ]
  },
  {
   "cell_type": "code",
   "execution_count": 59,
   "metadata": {
    "_uuid": "b6f9755a03cd628e97aa275ccb168f8655b309a5"
   },
   "outputs": [
    {
     "name": "stdout",
     "output_type": "stream",
     "text": [
      "0.006114384976666032\n"
     ]
    }
   ],
   "source": [
    "print(scores.std())"
   ]
  },
  {
   "cell_type": "markdown",
   "metadata": {
    "_uuid": "eaab54fc174ec255ecf966050e16b5caa0a7b73e"
   },
   "source": [
    "### Calculating loss\n"
   ]
  },
  {
   "cell_type": "code",
   "execution_count": 60,
   "metadata": {
    "_uuid": "7b35483c6f4d38e0deea23b96b3475fd10ed321b"
   },
   "outputs": [],
   "source": [
    "scores=cross_val_score(reg,X_train,y_train,cv=10,scoring='neg_mean_squared_error')"
   ]
  },
  {
   "cell_type": "code",
   "execution_count": 61,
   "metadata": {
    "_uuid": "67591de58fb0e239a9037cff9ad60cfd9ade97bd"
   },
   "outputs": [
    {
     "name": "stdout",
     "output_type": "stream",
     "text": [
      "[-502.96271789 -374.74049281 -414.4742272  -382.03044179 -369.39705744\n",
      " -437.78949987 -428.51527148 -373.25915899 -479.10820038 -401.19350582]\n"
     ]
    }
   ],
   "source": [
    "print(scores)"
   ]
  },
  {
   "cell_type": "code",
   "execution_count": 62,
   "metadata": {
    "_uuid": "535e5f2fbb9a7e18d4501e4a9fa502618472e14d"
   },
   "outputs": [
    {
     "name": "stdout",
     "output_type": "stream",
     "text": [
      "-416.3470573669724\n"
     ]
    }
   ],
   "source": [
    "#Average loss\n",
    "print(scores.mean())"
   ]
  },
  {
   "cell_type": "code",
   "execution_count": 63,
   "metadata": {
    "_uuid": "c093ddd7938e56abee4afa75db98da8c847918d3"
   },
   "outputs": [
    {
     "name": "stdout",
     "output_type": "stream",
     "text": [
      "43.876897009552344\n"
     ]
    }
   ],
   "source": [
    "print(scores.std())"
   ]
  },
  {
   "cell_type": "markdown",
   "metadata": {
    "_uuid": "22c1f553b37ada1aa2115426d74ca229d960af34"
   },
   "source": [
    "## Linear Regression fit"
   ]
  },
  {
   "cell_type": "code",
   "execution_count": 64,
   "metadata": {
    "_uuid": "5f1260135f3d9aaccf610ba84fe41ea0ad0e8adb"
   },
   "outputs": [
    {
     "data": {
      "image/png": "[encoded data removed]",
      "text/plain": [
       "<Figure size 720x360 with 1 Axes>"
      ]
     },
     "metadata": {},
     "output_type": "display_data"
    }
   ],
   "source": [
    "y_pred = reg.predict(X_test)\n",
    "plt.figure(figsize=(10, 5))\n",
    "plt.scatter(y_test, y_pred, s=20)\n",
    "plt.title('Predicted vs. Actual')\n",
    "plt.xlabel('Actual target')\n",
    "plt.ylabel('Predicted target')\n",
    "\n",
    "plt.plot([min(y_test), max(y_test)], [min(y_test), max(y_test)],'r')\n",
    "plt.tight_layout()"
   ]
  },
  {
   "cell_type": "markdown",
   "metadata": {
    "_uuid": "3104dbff01f0ae037e1966f0a033fb75ed686976"
   },
   "source": [
    "### Predicted Values"
   ]
  },
  {
   "cell_type": "code",
   "execution_count": 65,
   "metadata": {
    "_uuid": "616fdadd1b764ff29397ee7cac9a873998b0064a"
   },
   "outputs": [
    {
     "data": {
      "text/plain": [
       "(400,)"
      ]
     },
     "execution_count": 65,
     "metadata": {},
     "output_type": "execute_result"
    }
   ],
   "source": [
    "y_pred.shape"
   ]
  },
  {
   "cell_type": "code",
   "execution_count": 66,
   "metadata": {
    "_uuid": "1028f1fc6e4afcd36b4b6ba1351233657a0ae359"
   },
   "outputs": [
    {
     "name": "stdout",
     "output_type": "stream",
     "text": [
      "predicted values for 400 test data are [ 1.42596695e+02 -1.36798726e+02  2.53874297e+02  1.53526664e+01\n",
      " -8.23412457e+01  1.52351118e+02  7.70398118e+01  9.28501220e+01\n",
      " -1.24403704e+02  1.92325679e+02  1.28779153e+00 -1.67873817e+01\n",
      " -6.33285463e+01  2.10845314e+02  1.16133273e+02 -5.83791099e+00\n",
      " -1.88330079e+02 -1.49203788e+02 -1.60201956e+02  2.49612506e+01\n",
      " -1.15048167e+02  4.27967738e+01 -1.72118379e+00  4.04879450e+01\n",
      "  7.52626640e+01  2.22958149e+02 -1.58074655e+02  5.91045195e+01\n",
      " -3.35768509e+00  8.39404130e+01  1.09823830e+02 -1.25782606e+02\n",
      "  1.60730559e+02 -4.29231282e+01 -1.26587157e+02 -3.89775486e+01\n",
      "  1.07785007e+02  2.96474241e+01 -4.17106104e+01 -2.81778032e+01\n",
      "  4.23722446e+01  2.20776059e+02 -3.34901856e+00  4.03815851e+01\n",
      "  3.25636505e+01  1.70495898e+02 -2.62611460e+01 -7.08262146e+00\n",
      "  1.50863399e+02 -1.67943606e+02 -1.02956610e+02  1.27690751e+02\n",
      "  2.64032599e+01 -1.90250672e+02  1.61180423e+02 -1.97133433e+01\n",
      " -5.77731859e+01  1.19987121e+02  1.29430763e+02  3.76026697e+01\n",
      " -1.40243888e+01 -9.09886559e+01 -1.63486658e+01  5.37332190e+01\n",
      "  1.29358198e+02  9.98484899e+01  3.95564501e+01  1.82772226e+02\n",
      " -1.18024708e+02  1.74748383e+02 -6.92812754e+00  1.74507823e+01\n",
      " -5.82364292e+01  1.96696446e+02  1.37947046e+02 -4.71649002e+01\n",
      " -1.72467737e+02  7.31695287e+01 -6.85895755e+01 -1.83705113e+02\n",
      " -5.74176999e+01  1.35989503e+02  5.79407521e+00 -2.02415500e+02\n",
      "  5.15986244e+01  1.74846027e+02 -3.20522968e+01  2.07528847e+01\n",
      " -2.16946269e+02  7.67243793e+01  1.63007654e+02  6.80634825e+01\n",
      " -4.74221874e+01  1.07748630e+02  4.97097122e+01  1.97043119e+00\n",
      "  9.88260246e+01  4.72851023e+01 -6.36675746e+01 -2.10030946e+01\n",
      "  1.14249310e+02  1.50364029e+02 -2.60876896e+02  8.09659277e+01\n",
      "  5.27586328e+01  1.22103326e+02  2.08478309e+02 -2.19761143e+00\n",
      "  4.27432789e+01 -1.64428882e+01 -1.68553410e+02 -1.27059967e+02\n",
      " -4.84130682e+01  9.46498019e+01  3.31707737e+00 -6.42283583e+01\n",
      "  6.62070006e+01 -1.38794765e+02  6.75699106e+01 -1.67858781e+02\n",
      " -1.51368822e+01  7.25215518e+01 -1.08242596e+02 -2.20100007e+01\n",
      "  2.42469905e+01 -5.82268395e+01 -1.93719032e+01  3.40885285e+01\n",
      "  2.31462987e+02  1.78237173e+01 -2.71758637e+01  1.72793431e+02\n",
      "  1.11577372e+02 -1.78543372e+02  2.17748514e+02 -2.90357460e+00\n",
      " -2.31681800e+01 -3.69716222e+00 -1.49389622e+01 -2.24697701e+00\n",
      " -6.95621088e+01 -3.49510329e+01 -3.04581279e+01 -1.87774944e+02\n",
      "  1.07324522e+02  4.39548520e+01 -1.28914485e+02 -2.20244994e+02\n",
      " -1.34150876e+02 -4.52630699e+01 -9.28734476e+01 -1.97818142e+02\n",
      "  8.56201618e+01 -1.58753811e+01  1.75270129e+02 -6.21040712e+01\n",
      " -5.32011961e+01  2.94754268e+00  5.24681131e+01 -3.85125426e+01\n",
      " -2.08895656e+01 -2.54782187e+00  2.52090597e+01 -2.49022700e+01\n",
      "  9.59220139e+01 -1.02780827e+02  8.45583754e+01 -1.22224232e+01\n",
      " -3.75303662e+01  7.32581789e+01 -1.20982000e+02 -2.08714709e+01\n",
      " -1.15443341e+02 -6.38357488e+01 -1.15918736e+02 -1.95050422e+01\n",
      " -7.50449886e+01  1.25249545e+02  2.85823243e+02  2.26196932e+02\n",
      "  9.27424182e+01 -8.86928534e+01  1.33351738e+02  4.36516488e+00\n",
      "  1.24419847e+01  5.40058775e+01  6.66665717e+01 -2.14517511e+02\n",
      "  2.41838069e+02 -9.33342481e+01  1.78564624e+01  6.19300749e+01\n",
      "  1.30612881e+02  9.56930117e+01 -9.59643273e+01 -1.03950638e+02\n",
      "  1.02875246e+02  1.13829571e+02 -1.52068860e+02  1.19929456e+02\n",
      " -1.35066317e+02  1.84013696e+02  1.88566237e+02  8.91628521e+00\n",
      "  1.77275627e+02 -1.51188690e+02 -1.29069823e+01  1.76386410e+02\n",
      "  7.14241572e+01  6.78851193e+01 -5.92219557e+01 -2.26156904e+00\n",
      "  1.67847656e+02  4.75152773e+01 -4.58242771e+01  6.78904604e+01\n",
      "  1.09616660e+01 -5.51876639e+01 -2.75146984e+02 -3.59493685e+01\n",
      " -8.83957502e+01  2.47960448e+01 -2.68100401e+00 -1.11413802e+02\n",
      "  3.43787892e+01 -1.80945708e+01  1.57546120e+01 -4.01894050e+01\n",
      "  1.16613798e+02 -4.71361907e+01 -8.63502502e+01  1.00066729e+02\n",
      "  2.50804391e+01  2.25298758e+01 -5.11445543e+01  3.24489269e+01\n",
      " -3.07368510e+02  1.33187858e+02 -1.62774541e+02  2.87405425e+01\n",
      "  1.10041855e+02  1.51977358e+02  8.00018834e+01  2.80356549e+01\n",
      "  1.45233889e+02 -2.14994831e+02 -4.57784066e+01 -4.99763282e+01\n",
      "  1.02517174e+02  1.13232175e+02  8.18041971e-01  1.98789392e+01\n",
      " -3.66660681e+01  2.13453459e+01 -1.21820124e+01  2.59514523e+01\n",
      " -3.50651065e+01 -1.24334401e+02  1.13968634e+02 -1.36045730e+01\n",
      " -9.54271676e+01 -2.67333622e+01 -9.46550043e+01  1.48278596e+02\n",
      " -9.57858780e+01 -4.77102644e+01 -6.93584993e+01 -2.74989583e+01\n",
      "  2.20060697e+02 -4.35779700e+01 -1.41451462e+02  6.84662954e+01\n",
      "  4.06056474e+01 -1.41842861e+00  3.82012250e+01 -1.05547729e+02\n",
      "  9.12656338e+01  8.34061035e+00 -4.72254462e-01 -2.72854316e+01\n",
      "  1.26681298e+02  3.39138139e+01  2.98820953e+01  1.64010272e+02\n",
      "  1.00333028e+02 -1.07626926e+01  8.62557275e+01  5.27293578e+01\n",
      "  3.44507842e+01  1.66797977e+02  4.56795620e+01  1.40655122e+01\n",
      " -8.20334571e+01  1.73113391e+02  6.66356844e+01  1.33184891e+02\n",
      " -9.42850330e+01  4.31892772e+01 -1.36929933e+01  2.42036169e+01\n",
      "  5.56019211e+01 -1.29062104e+02 -1.47420145e+02  1.84983596e+01\n",
      " -1.02161117e+02  9.97053980e+01 -6.79856649e+00  1.20715847e+01\n",
      "  1.32092382e+02 -6.81913187e+01 -2.53686912e+02  2.11460516e+02\n",
      "  9.80065671e+01  7.36824132e+01  6.26038191e+01 -3.22903532e+01\n",
      " -1.44999308e+00 -1.23185713e+02 -1.18394092e+01 -2.62810973e+01\n",
      " -8.25115540e+01 -2.01946527e+02  9.73103408e+01 -2.34382528e+02\n",
      " -4.71691814e+01 -3.90994240e+00 -1.33221172e+02 -1.57383482e+02\n",
      " -5.73037083e+01  1.02450100e+02  1.83515442e+01  1.88211145e+02\n",
      " -1.88524178e+02 -9.29844849e+00  4.65945574e+01 -3.29981510e+01\n",
      "  2.44099545e+02  7.62654080e+01  2.77584808e+01 -9.10204897e+00\n",
      " -1.21721880e+02 -8.60975993e+01  6.47148122e+00  1.12856497e+02\n",
      " -2.20970674e+01  2.95968647e+01  3.92278241e+01 -1.18617876e+01\n",
      " -8.02415528e+01  3.39784595e+01  2.56015242e+01 -7.11957587e+01\n",
      "  2.54226793e+02  7.43796856e+01  5.25954748e-01  1.00259978e+01\n",
      "  1.03611495e+02 -7.12408176e+01  4.66207094e+01 -3.73633485e+01\n",
      "  9.10310203e+00  1.24877506e+02 -1.17400370e+02 -1.19486014e+02\n",
      " -2.47269522e+02 -1.22655107e+02  4.81281920e+01 -1.98618435e+01\n",
      " -1.77221076e+02 -3.23546147e+01 -9.91955681e+01 -4.85340185e+01\n",
      " -8.23922231e+01  3.44049303e+01 -7.31580243e+01 -3.85134750e+01\n",
      " -1.03868543e+02  4.79993151e+01  1.21627058e+02 -2.33571192e+02\n",
      "  1.44925158e+01  1.42666234e+02  1.02190086e+02 -1.59854835e+02\n",
      " -1.12965965e+02 -1.28133262e+01  2.11453495e-01  3.09590848e+01\n",
      " -7.21166749e+01  6.85491834e+01  5.95606009e+01 -1.49401884e+01\n",
      " -6.84005764e+01 -7.08083443e+01  6.72312678e+01 -2.70897051e+02\n",
      " -5.60583121e+01 -8.48052567e+01  1.14820058e+02  1.24279863e+01]\n"
     ]
    }
   ],
   "source": [
    "print(\"predicted values for 400 test data are\", y_pred)"
   ]
  },
  {
   "cell_type": "code",
   "execution_count": 67,
   "metadata": {
    "_uuid": "d9a6e07d768f7fedb2082db189844f3053df609c"
   },
   "outputs": [],
   "source": [
    "np.savetxt('predictedres.csv',y_pred)"
   ]
  },
  {
   "cell_type": "code",
   "execution_count": null,
   "metadata": {},
   "outputs": [],
   "source": []
  },
  {
   "cell_type": "code",
   "execution_count": null,
   "metadata": {},
   "outputs": [],
   "source": []
  }
 ],
 "metadata": {
  "kernelspec": {
   "display_name": "Python 3",
   "language": "python",
   "name": "python3"
  },
  "language_info": {
   "codemirror_mode": {
    "name": "ipython",
    "version": 3
   },
   "file_extension": ".py",
   "mimetype": "text/x-python",
   "name": "python",
   "nbconvert_exporter": "python",
   "pygments_lexer": "ipython3",
   "version": "3.7.0"
  }
 },
 "nbformat": 4,
 "nbformat_minor": 1
}
